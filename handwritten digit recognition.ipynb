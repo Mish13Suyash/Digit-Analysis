{
 "cells": [
  {
   "cell_type": "markdown",
   "id": "8f837fcd",
   "metadata": {},
   "source": [
    "# FOUNDATION OF MACHINE LEARNING\n",
    "\n",
    "### Handwritten Digit Recognition\n"
   ]
  },
  {
   "cell_type": "markdown",
   "id": "6a5e5408",
   "metadata": {},
   "source": [
    "### What is Handwritten Digit Recognition?\n",
    "\n",
    "The handwritten digit recognition is the ability of computers to recognize human handwritten digits. It is a hard task for the machine because handwritten digits are not perfect and can be made with many different flavors. The handwritten digit recognition is the solution to this problem which uses the image of a digit and recognizes the digit present in the image."
   ]
  },
  {
   "cell_type": "markdown",
   "id": "1bd4191e",
   "metadata": {},
   "source": [
    "### About the Python Deep Learning Project\n",
    "\n",
    "In this project, we are going to implement a handwritten digit recognition app using the MNIST dataset. We will be using a special type of deep neural network that is \"Convolutional Neural Networks\". In the end, we are going to build a GUI in which you can draw the digit and recognize it straight away.\n",
    "\n",
    "MNIST (“Modified National Institute of Standards and Technology”) is considered an unofficial computer vision “hello-world” dataset. This is a collection of thousands of handwritten pictures used to train classification models using Machine Learning techniques."
   ]
  },
  {
   "cell_type": "markdown",
   "id": "8b5968c6",
   "metadata": {},
   "source": [
    "<center>\n",
    "    <img src=\"https://techvidvan.com/tutorials/wp-content/uploads/sites/2/2020/09/mnist-dataset.jpg\" width=\"500\">"
   ]
  },
  {
   "cell_type": "markdown",
   "id": "ae4ad422",
   "metadata": {},
   "source": [
    "### Prerequisites\n",
    "\n",
    "The interesting Python project requires you to have basic knowledge of Python programming, deep learning with Keras library and the Tkinter library for building GUI.\n",
    "\n",
    "##### Things to be considered:\n",
    "* Install the latest Tensorflow library\n",
    "* Prepare the dataset for the model\n",
    "* Develop Perceptron model for classifying the handwritten digits\n",
    "* Plot the change in accuracy per epochs\n",
    "* Evaluate the model on the testing data\n",
    "* Analyze the model summary"
   ]
  },
  {
   "cell_type": "markdown",
   "id": "a96f7d1f",
   "metadata": {},
   "source": [
    "##  Installing the Packages\n"
   ]
  },
  {
   "cell_type": "code",
   "execution_count": 1,
   "id": "c134c51d",
   "metadata": {},
   "outputs": [
    {
     "name": "stdout",
     "output_type": "stream",
     "text": [
      "Requirement already satisfied: tensorflow in c:\\users\\asus\\anaconda3\\lib\\site-packages (2.12.0)\n",
      "Requirement already satisfied: tensorflow-intel==2.12.0 in c:\\users\\asus\\anaconda3\\lib\\site-packages (from tensorflow) (2.12.0)\n",
      "Requirement already satisfied: tensorflow-estimator<2.13,>=2.12.0 in c:\\users\\asus\\anaconda3\\lib\\site-packages (from tensorflow-intel==2.12.0->tensorflow) (2.12.0)\n",
      "Requirement already satisfied: flatbuffers>=2.0 in c:\\users\\asus\\anaconda3\\lib\\site-packages (from tensorflow-intel==2.12.0->tensorflow) (23.5.26)\n",
      "Requirement already satisfied: typing-extensions>=3.6.6 in c:\\users\\asus\\anaconda3\\lib\\site-packages (from tensorflow-intel==2.12.0->tensorflow) (4.5.0)\n",
      "Requirement already satisfied: jax>=0.3.15 in c:\\users\\asus\\anaconda3\\lib\\site-packages (from tensorflow-intel==2.12.0->tensorflow) (0.4.12)\n",
      "Requirement already satisfied: google-pasta>=0.1.1 in c:\\users\\asus\\anaconda3\\lib\\site-packages (from tensorflow-intel==2.12.0->tensorflow) (0.2.0)\n",
      "Requirement already satisfied: tensorflow-io-gcs-filesystem>=0.23.1 in c:\\users\\asus\\anaconda3\\lib\\site-packages (from tensorflow-intel==2.12.0->tensorflow) (0.31.0)\n",
      "Requirement already satisfied: protobuf!=4.21.0,!=4.21.1,!=4.21.2,!=4.21.3,!=4.21.4,!=4.21.5,<5.0.0dev,>=3.20.3 in c:\\users\\asus\\anaconda3\\lib\\site-packages (from tensorflow-intel==2.12.0->tensorflow) (4.23.2)\n",
      "Requirement already satisfied: keras<2.13,>=2.12.0 in c:\\users\\asus\\anaconda3\\lib\\site-packages (from tensorflow-intel==2.12.0->tensorflow) (2.12.0)\n",
      "Requirement already satisfied: six>=1.12.0 in c:\\users\\asus\\anaconda3\\lib\\site-packages (from tensorflow-intel==2.12.0->tensorflow) (1.16.0)\n",
      "Requirement already satisfied: setuptools in c:\\users\\asus\\anaconda3\\lib\\site-packages (from tensorflow-intel==2.12.0->tensorflow) (61.2.0)\n",
      "Requirement already satisfied: termcolor>=1.1.0 in c:\\users\\asus\\anaconda3\\lib\\site-packages (from tensorflow-intel==2.12.0->tensorflow) (2.3.0)\n",
      "Requirement already satisfied: h5py>=2.9.0 in c:\\users\\asus\\anaconda3\\lib\\site-packages (from tensorflow-intel==2.12.0->tensorflow) (3.6.0)\n",
      "Requirement already satisfied: opt-einsum>=2.3.2 in c:\\users\\asus\\anaconda3\\lib\\site-packages (from tensorflow-intel==2.12.0->tensorflow) (3.3.0)\n",
      "Requirement already satisfied: gast<=0.4.0,>=0.2.1 in c:\\users\\asus\\anaconda3\\lib\\site-packages (from tensorflow-intel==2.12.0->tensorflow) (0.4.0)\n",
      "Requirement already satisfied: numpy<1.24,>=1.22 in c:\\users\\asus\\anaconda3\\lib\\site-packages (from tensorflow-intel==2.12.0->tensorflow) (1.22.4)\n",
      "Requirement already satisfied: packaging in c:\\users\\asus\\anaconda3\\lib\\site-packages (from tensorflow-intel==2.12.0->tensorflow) (21.3)\n",
      "Requirement already satisfied: libclang>=13.0.0 in c:\\users\\asus\\anaconda3\\lib\\site-packages (from tensorflow-intel==2.12.0->tensorflow) (16.0.0)\n",
      "Requirement already satisfied: grpcio<2.0,>=1.24.3 in c:\\users\\asus\\anaconda3\\lib\\site-packages (from tensorflow-intel==2.12.0->tensorflow) (1.54.2)\n",
      "Requirement already satisfied: wrapt<1.15,>=1.11.0 in c:\\users\\asus\\anaconda3\\lib\\site-packages (from tensorflow-intel==2.12.0->tensorflow) (1.12.1)\n",
      "Requirement already satisfied: tensorboard<2.13,>=2.12 in c:\\users\\asus\\anaconda3\\lib\\site-packages (from tensorflow-intel==2.12.0->tensorflow) (2.12.3)\n",
      "Requirement already satisfied: absl-py>=1.0.0 in c:\\users\\asus\\anaconda3\\lib\\site-packages (from tensorflow-intel==2.12.0->tensorflow) (1.4.0)\n",
      "Requirement already satisfied: astunparse>=1.6.0 in c:\\users\\asus\\anaconda3\\lib\\site-packages (from tensorflow-intel==2.12.0->tensorflow) (1.6.3)\n",
      "Requirement already satisfied: wheel<1.0,>=0.23.0 in c:\\users\\asus\\anaconda3\\lib\\site-packages (from astunparse>=1.6.0->tensorflow-intel==2.12.0->tensorflow) (0.37.1)\n",
      "Requirement already satisfied: scipy>=1.7 in c:\\users\\asus\\anaconda3\\lib\\site-packages (from jax>=0.3.15->tensorflow-intel==2.12.0->tensorflow) (1.7.3)\n",
      "Requirement already satisfied: ml-dtypes>=0.1.0 in c:\\users\\asus\\anaconda3\\lib\\site-packages (from jax>=0.3.15->tensorflow-intel==2.12.0->tensorflow) (0.2.0)\n",
      "Requirement already satisfied: importlib-metadata>=4.6 in c:\\users\\asus\\anaconda3\\lib\\site-packages (from jax>=0.3.15->tensorflow-intel==2.12.0->tensorflow) (4.11.3)\n",
      "Requirement already satisfied: zipp>=0.5 in c:\\users\\asus\\anaconda3\\lib\\site-packages (from importlib-metadata>=4.6->jax>=0.3.15->tensorflow-intel==2.12.0->tensorflow) (3.7.0)\n",
      "Requirement already satisfied: requests<3,>=2.21.0 in c:\\users\\asus\\anaconda3\\lib\\site-packages (from tensorboard<2.13,>=2.12->tensorflow-intel==2.12.0->tensorflow) (2.27.1)\n",
      "Requirement already satisfied: google-auth-oauthlib<1.1,>=0.5 in c:\\users\\asus\\anaconda3\\lib\\site-packages (from tensorboard<2.13,>=2.12->tensorflow-intel==2.12.0->tensorflow) (1.0.0)\n",
      "Requirement already satisfied: google-auth<3,>=1.6.3 in c:\\users\\asus\\anaconda3\\lib\\site-packages (from tensorboard<2.13,>=2.12->tensorflow-intel==2.12.0->tensorflow) (2.20.0)\n",
      "Requirement already satisfied: tensorboard-data-server<0.8.0,>=0.7.0 in c:\\users\\asus\\anaconda3\\lib\\site-packages (from tensorboard<2.13,>=2.12->tensorflow-intel==2.12.0->tensorflow) (0.7.1)\n",
      "Requirement already satisfied: werkzeug>=1.0.1 in c:\\users\\asus\\anaconda3\\lib\\site-packages (from tensorboard<2.13,>=2.12->tensorflow-intel==2.12.0->tensorflow) (2.0.3)\n",
      "Requirement already satisfied: markdown>=2.6.8 in c:\\users\\asus\\anaconda3\\lib\\site-packages (from tensorboard<2.13,>=2.12->tensorflow-intel==2.12.0->tensorflow) (3.3.4)\n",
      "Requirement already satisfied: cachetools<6.0,>=2.0.0 in c:\\users\\asus\\anaconda3\\lib\\site-packages (from google-auth<3,>=1.6.3->tensorboard<2.13,>=2.12->tensorflow-intel==2.12.0->tensorflow) (4.2.2)\n",
      "Requirement already satisfied: rsa<5,>=3.1.4 in c:\\users\\asus\\anaconda3\\lib\\site-packages (from google-auth<3,>=1.6.3->tensorboard<2.13,>=2.12->tensorflow-intel==2.12.0->tensorflow) (4.7.2)\n",
      "Requirement already satisfied: pyasn1-modules>=0.2.1 in c:\\users\\asus\\anaconda3\\lib\\site-packages (from google-auth<3,>=1.6.3->tensorboard<2.13,>=2.12->tensorflow-intel==2.12.0->tensorflow) (0.2.8)\n",
      "Requirement already satisfied: urllib3<2.0 in c:\\users\\asus\\anaconda3\\lib\\site-packages (from google-auth<3,>=1.6.3->tensorboard<2.13,>=2.12->tensorflow-intel==2.12.0->tensorflow) (1.26.9)\n",
      "Requirement already satisfied: requests-oauthlib>=0.7.0 in c:\\users\\asus\\anaconda3\\lib\\site-packages (from google-auth-oauthlib<1.1,>=0.5->tensorboard<2.13,>=2.12->tensorflow-intel==2.12.0->tensorflow) (1.3.1)\n",
      "Requirement already satisfied: pyasn1<0.5.0,>=0.4.6 in c:\\users\\asus\\anaconda3\\lib\\site-packages (from pyasn1-modules>=0.2.1->google-auth<3,>=1.6.3->tensorboard<2.13,>=2.12->tensorflow-intel==2.12.0->tensorflow) (0.4.8)\n",
      "Requirement already satisfied: certifi>=2017.4.17 in c:\\users\\asus\\anaconda3\\lib\\site-packages (from requests<3,>=2.21.0->tensorboard<2.13,>=2.12->tensorflow-intel==2.12.0->tensorflow) (2021.10.8)\n",
      "Requirement already satisfied: idna<4,>=2.5 in c:\\users\\asus\\anaconda3\\lib\\site-packages (from requests<3,>=2.21.0->tensorboard<2.13,>=2.12->tensorflow-intel==2.12.0->tensorflow) (3.3)\n",
      "Requirement already satisfied: charset-normalizer~=2.0.0 in c:\\users\\asus\\anaconda3\\lib\\site-packages (from requests<3,>=2.21.0->tensorboard<2.13,>=2.12->tensorflow-intel==2.12.0->tensorflow) (2.0.4)\n",
      "Requirement already satisfied: oauthlib>=3.0.0 in c:\\users\\asus\\anaconda3\\lib\\site-packages (from requests-oauthlib>=0.7.0->google-auth-oauthlib<1.1,>=0.5->tensorboard<2.13,>=2.12->tensorflow-intel==2.12.0->tensorflow) (3.2.2)\n",
      "Requirement already satisfied: pyparsing!=3.0.5,>=2.0.2 in c:\\users\\asus\\anaconda3\\lib\\site-packages (from packaging->tensorflow-intel==2.12.0->tensorflow) (3.0.4)\n",
      "Requirement already satisfied: keras in c:\\users\\asus\\anaconda3\\lib\\site-packages (2.12.0)\n",
      "Requirement already satisfied: numpy in c:\\users\\asus\\anaconda3\\lib\\site-packages (1.22.4)\n",
      "Requirement already satisfied: pillow in c:\\users\\asus\\anaconda3\\lib\\site-packages (9.0.1)\n"
     ]
    }
   ],
   "source": [
    "!pip install tensorflow\n",
    "!pip install keras\n",
    "!pip install numpy\n",
    "!pip install pillow"
   ]
  },
  {
   "cell_type": "markdown",
   "id": "1c003e38",
   "metadata": {},
   "source": [
    "##  Import the libraries and load the dataset\n",
    "\n",
    "First, we are going to import all the modules that we are going to need for training our model. The Keras library already contains some datasets and MNIST is one of them. So we can easily import the dataset and start working with it. The mnist.load_data() method returns us the training data, its labels and also the testing data and its labels.\n"
   ]
  },
  {
   "cell_type": "code",
   "execution_count": 2,
   "id": "a80d8656",
   "metadata": {},
   "outputs": [
    {
     "name": "stdout",
     "output_type": "stream",
     "text": [
      "2.12.0\n"
     ]
    }
   ],
   "source": [
    "import tensorflow as tf\n",
    "from tensorflow import keras \n",
    "\n",
    "#Check tf.keras version\n",
    "print(tf.keras.__version__)\n"
   ]
  },
  {
   "cell_type": "markdown",
   "id": "0b247320",
   "metadata": {},
   "source": [
    "### Preparing the Handwritten Digit Recognition dataset\n",
    "\n",
    "Let’s fetch and explore MNIST dataset from the Keras library.\n",
    "\n",
    "The block of code below will load the images of handwritten digits from mnist dataset and randomly split the it as X_train, Y_train (to separate the features and label of training data) and X_test, Y_test (features and label of testing data). These split datasets will be used to train and test our model.\n"
   ]
  },
  {
   "cell_type": "code",
   "execution_count": 3,
   "id": "9294bc53",
   "metadata": {},
   "outputs": [],
   "source": [
    "# Loading MNIST dataset\n",
    "mnist = keras.datasets.mnist \n",
    "\n",
    "#Splitting into train and test\n",
    "(X_train, Y_train), (X_test, Y_test) = mnist.load_data()"
   ]
  },
  {
   "cell_type": "markdown",
   "id": "c0769cec",
   "metadata": {},
   "source": [
    "Let’s check the number of entries in our dataset. For this we will be printing the shape of X_train and X_test."
   ]
  },
  {
   "cell_type": "code",
   "execution_count": 4,
   "id": "bbcbc2a7",
   "metadata": {},
   "outputs": [
    {
     "name": "stdout",
     "output_type": "stream",
     "text": [
      "(60000, 28, 28)\n",
      "(10000, 28, 28)\n"
     ]
    }
   ],
   "source": [
    "# Data Exploration\n",
    "print(X_train.shape)\n",
    "print(X_test.shape)"
   ]
  },
  {
   "cell_type": "markdown",
   "id": "904797c8",
   "metadata": {},
   "source": [
    "From the above output we can see that we have 60000 entries (images) as part of train data with 28×28 pixel values and 10000 entries as a part of test of data of same size. You can check the individual pixels of any of the image, eg: X_train[0].\n",
    "\n",
    "Let’s preprocess our data for further usage. We will reshape the dataset from 28×28 to 784 and convert it into float32 datatype for training our neural network.\n",
    "\n",
    "* Reshape the data\n",
    "* Change the datatype to float32\n",
    "* Normalize the dataset\n",
    "* Perform One-Hot Encoding on the labels"
   ]
  },
  {
   "cell_type": "code",
   "execution_count": 5,
   "id": "8bdba7d6",
   "metadata": {},
   "outputs": [
    {
     "name": "stdout",
     "output_type": "stream",
     "text": [
      "60000 train samples\n",
      "10000 test samples\n"
     ]
    }
   ],
   "source": [
    "# X_train is 60000 rows of 28x28 values; we reshape it to # 60000 x 784. \n",
    "RESHAPED = 784 # 28x28 = 784 neurons\n",
    "X_train = X_train.reshape(60000, RESHAPED) \n",
    "X_test = X_test.reshape(10000, RESHAPED) \n",
    "\n",
    "# Data is converted into float32 to use 32-bit precision # when training a neural network \n",
    "X_train = X_train.astype('float32')\n",
    "X_test = X_test.astype('float32') \n",
    "\n",
    "# Normalizing the input to be within the range [0,1]\n",
    "X_train /= 255\n",
    "#intensity of each pixel is divided by 255, the maximum intensity value\n",
    "X_test /= 255\n",
    "print(X_train.shape[0], 'train samples') \n",
    "print(X_test.shape[0], 'test samples') \n",
    "\n",
    "# One-hot representation of the labels.\n",
    "Y_train = tf.keras.utils.to_categorical(Y_train, 10) \n",
    "Y_test = tf.keras.utils.to_categorical(Y_test, 10)\n"
   ]
  },
  {
   "cell_type": "markdown",
   "id": "a2adca61",
   "metadata": {},
   "source": [
    "The output tells the number of records within the train and test data.\n",
    "\n",
    "Now that we have prepared our data. Next we will be using this data to build our model."
   ]
  },
  {
   "cell_type": "markdown",
   "id": "85686a7f",
   "metadata": {},
   "source": [
    "### Building the Handwritten Digit Recognition Models\n",
    "\n",
    "#### Preparing the Model: Single layer Perceptron\n",
    "This model is the most basic sequential model with 0 hidden layers in it.\n",
    "\n",
    "#### Adding the model layer\n",
    "We will be building the simplest model defined in the Sequential class as a linear stack of Layers"
   ]
  },
  {
   "cell_type": "code",
   "execution_count": 6,
   "id": "2f9d731f",
   "metadata": {},
   "outputs": [],
   "source": [
    "import tensorflow as tf\n",
    "from tensorflow.keras.layers import Dense\n",
    "from tensorflow.keras import Sequential\n",
    "model_1 = Sequential()\n",
    "\n",
    "# Now the model will take as input arrays of shape (*, 784)# and output arrays of shape (*, 10)\n",
    "model_1.add(Dense(10,input_shape=(784,),name='dense_layer', activation='softmax')) "
   ]
  },
  {
   "cell_type": "markdown",
   "id": "b46d53a4",
   "metadata": {},
   "source": [
    "In the above code we are importing the sequential keras model with 0 hidden layers. We have defined the output layer as 10. This is our dense layer. 10 is chosen as we have numbers from 0 to 9 to be classified in the dataset. shape. Total number of neurons in the input layer is 784. The activation function chosen in the dense layer is softmax. In simple terms, the model will have 784 input neurons to give the output between 0-9 numbers."
   ]
  },
  {
   "cell_type": "markdown",
   "id": "b2e54f7b",
   "metadata": {},
   "source": [
    "### Compiling the model\n",
    "\n",
    "Next step is to compile the model. For compiling we need to define three parameters: optimizer, loss, and metrics."
   ]
  },
  {
   "cell_type": "code",
   "execution_count": 7,
   "id": "2a20a575",
   "metadata": {},
   "outputs": [],
   "source": [
    "# Compiling the model.\n",
    "model_1.compile(optimizer='SGD', \n",
    "              loss='categorical_crossentropy',\n",
    "              metrics=['accuracy'])"
   ]
  },
  {
   "cell_type": "markdown",
   "id": "3f7eb7e1",
   "metadata": {},
   "source": [
    "### Training the model\n",
    "\n",
    "Model will be now trained on the on the training data. For this we will be defining the epochs, batchsize, and validation size\n",
    "\n",
    "* epoch: Number of times that the model will run through the training dataset\n",
    "* batch_size: Number of training instances to be shown to the model before a weight is updated\n",
    "* validation_split: Defines the fraction of data to be used for validation purpose"
   ]
  },
  {
   "cell_type": "code",
   "execution_count": 8,
   "id": "e889cbb4",
   "metadata": {},
   "outputs": [
    {
     "name": "stdout",
     "output_type": "stream",
     "text": [
      "Epoch 1/70\n",
      "750/750 [==============================] - 3s 3ms/step - loss: 1.0919 - accuracy: 0.7461 - val_loss: 0.6581 - val_accuracy: 0.8572\n",
      "Epoch 2/70\n",
      "750/750 [==============================] - 2s 2ms/step - loss: 0.6072 - accuracy: 0.8543 - val_loss: 0.5103 - val_accuracy: 0.8747\n",
      "Epoch 3/70\n",
      "750/750 [==============================] - 2s 2ms/step - loss: 0.5119 - accuracy: 0.8701 - val_loss: 0.4521 - val_accuracy: 0.8843\n",
      "Epoch 4/70\n",
      "750/750 [==============================] - 2s 2ms/step - loss: 0.4660 - accuracy: 0.8794 - val_loss: 0.4193 - val_accuracy: 0.8912\n",
      "Epoch 5/70\n",
      "750/750 [==============================] - 2s 2ms/step - loss: 0.4375 - accuracy: 0.8844 - val_loss: 0.3983 - val_accuracy: 0.8953\n",
      "Epoch 6/70\n",
      "750/750 [==============================] - 2s 2ms/step - loss: 0.4177 - accuracy: 0.8883 - val_loss: 0.3830 - val_accuracy: 0.8992\n",
      "Epoch 7/70\n",
      "750/750 [==============================] - 2s 2ms/step - loss: 0.4029 - accuracy: 0.8908 - val_loss: 0.3719 - val_accuracy: 0.9009\n",
      "Epoch 8/70\n",
      "750/750 [==============================] - 2s 2ms/step - loss: 0.3912 - accuracy: 0.8930 - val_loss: 0.3627 - val_accuracy: 0.9039\n",
      "Epoch 9/70\n",
      "750/750 [==============================] - 2s 2ms/step - loss: 0.3818 - accuracy: 0.8955 - val_loss: 0.3555 - val_accuracy: 0.9032\n",
      "Epoch 10/70\n",
      "750/750 [==============================] - 2s 3ms/step - loss: 0.3739 - accuracy: 0.8975 - val_loss: 0.3490 - val_accuracy: 0.9057\n",
      "Epoch 11/70\n",
      "750/750 [==============================] - 2s 3ms/step - loss: 0.3672 - accuracy: 0.8987 - val_loss: 0.3437 - val_accuracy: 0.9057\n",
      "Epoch 12/70\n",
      "750/750 [==============================] - 2s 2ms/step - loss: 0.3615 - accuracy: 0.8998 - val_loss: 0.3390 - val_accuracy: 0.9085\n",
      "Epoch 13/70\n",
      "750/750 [==============================] - 2s 3ms/step - loss: 0.3564 - accuracy: 0.9011 - val_loss: 0.3348 - val_accuracy: 0.9090\n",
      "Epoch 14/70\n",
      "750/750 [==============================] - 2s 2ms/step - loss: 0.3519 - accuracy: 0.9024 - val_loss: 0.3313 - val_accuracy: 0.9101\n",
      "Epoch 15/70\n",
      "750/750 [==============================] - 2s 2ms/step - loss: 0.3478 - accuracy: 0.9034 - val_loss: 0.3280 - val_accuracy: 0.9111\n",
      "Epoch 16/70\n",
      "750/750 [==============================] - 2s 2ms/step - loss: 0.3441 - accuracy: 0.9039 - val_loss: 0.3254 - val_accuracy: 0.9111\n",
      "Epoch 17/70\n",
      "750/750 [==============================] - 2s 2ms/step - loss: 0.3407 - accuracy: 0.9051 - val_loss: 0.3227 - val_accuracy: 0.9104\n",
      "Epoch 18/70\n",
      "750/750 [==============================] - 2s 2ms/step - loss: 0.3378 - accuracy: 0.9057 - val_loss: 0.3201 - val_accuracy: 0.9116\n",
      "Epoch 19/70\n",
      "750/750 [==============================] - 2s 2ms/step - loss: 0.3350 - accuracy: 0.9064 - val_loss: 0.3180 - val_accuracy: 0.9129\n",
      "Epoch 20/70\n",
      "750/750 [==============================] - 2s 2ms/step - loss: 0.3324 - accuracy: 0.9068 - val_loss: 0.3159 - val_accuracy: 0.9141\n",
      "Epoch 21/70\n",
      "750/750 [==============================] - 2s 2ms/step - loss: 0.3301 - accuracy: 0.9079 - val_loss: 0.3142 - val_accuracy: 0.9137\n",
      "Epoch 22/70\n",
      "750/750 [==============================] - 2s 2ms/step - loss: 0.3278 - accuracy: 0.9078 - val_loss: 0.3124 - val_accuracy: 0.9137\n",
      "Epoch 23/70\n",
      "750/750 [==============================] - 2s 2ms/step - loss: 0.3257 - accuracy: 0.9091 - val_loss: 0.3108 - val_accuracy: 0.9153\n",
      "Epoch 24/70\n",
      "750/750 [==============================] - 2s 3ms/step - loss: 0.3238 - accuracy: 0.9096 - val_loss: 0.3093 - val_accuracy: 0.9149\n",
      "Epoch 25/70\n",
      "750/750 [==============================] - 2s 3ms/step - loss: 0.3220 - accuracy: 0.9100 - val_loss: 0.3080 - val_accuracy: 0.9148\n",
      "Epoch 26/70\n",
      "750/750 [==============================] - 2s 2ms/step - loss: 0.3201 - accuracy: 0.9105 - val_loss: 0.3066 - val_accuracy: 0.9162\n",
      "Epoch 27/70\n",
      "750/750 [==============================] - 2s 2ms/step - loss: 0.3186 - accuracy: 0.9110 - val_loss: 0.3053 - val_accuracy: 0.9159\n",
      "Epoch 28/70\n",
      "750/750 [==============================] - 2s 2ms/step - loss: 0.3171 - accuracy: 0.9116 - val_loss: 0.3040 - val_accuracy: 0.9166\n",
      "Epoch 29/70\n",
      "750/750 [==============================] - 2s 2ms/step - loss: 0.3156 - accuracy: 0.9123 - val_loss: 0.3029 - val_accuracy: 0.9166\n",
      "Epoch 30/70\n",
      "750/750 [==============================] - 2s 2ms/step - loss: 0.3142 - accuracy: 0.9126 - val_loss: 0.3021 - val_accuracy: 0.9169\n",
      "Epoch 31/70\n",
      "750/750 [==============================] - 2s 2ms/step - loss: 0.3128 - accuracy: 0.9129 - val_loss: 0.3010 - val_accuracy: 0.9162\n",
      "Epoch 32/70\n",
      "750/750 [==============================] - 2s 3ms/step - loss: 0.3116 - accuracy: 0.9134 - val_loss: 0.3000 - val_accuracy: 0.9167\n",
      "Epoch 33/70\n",
      "750/750 [==============================] - 2s 3ms/step - loss: 0.3104 - accuracy: 0.9140 - val_loss: 0.2990 - val_accuracy: 0.9171\n",
      "Epoch 34/70\n",
      "750/750 [==============================] - 2s 2ms/step - loss: 0.3092 - accuracy: 0.9139 - val_loss: 0.2983 - val_accuracy: 0.9173\n",
      "Epoch 35/70\n",
      "750/750 [==============================] - 2s 2ms/step - loss: 0.3082 - accuracy: 0.9148 - val_loss: 0.2974 - val_accuracy: 0.9170\n",
      "Epoch 36/70\n",
      "750/750 [==============================] - 2s 2ms/step - loss: 0.3071 - accuracy: 0.9147 - val_loss: 0.2963 - val_accuracy: 0.9178\n",
      "Epoch 37/70\n",
      "750/750 [==============================] - 2s 2ms/step - loss: 0.3061 - accuracy: 0.9153 - val_loss: 0.2955 - val_accuracy: 0.9183\n",
      "Epoch 38/70\n",
      "750/750 [==============================] - 2s 2ms/step - loss: 0.3052 - accuracy: 0.9155 - val_loss: 0.2949 - val_accuracy: 0.9187\n",
      "Epoch 39/70\n",
      "750/750 [==============================] - 2s 2ms/step - loss: 0.3042 - accuracy: 0.9157 - val_loss: 0.2943 - val_accuracy: 0.9184\n",
      "Epoch 40/70\n",
      "750/750 [==============================] - 2s 3ms/step - loss: 0.3033 - accuracy: 0.9160 - val_loss: 0.2936 - val_accuracy: 0.9183\n",
      "Epoch 41/70\n",
      "750/750 [==============================] - 2s 3ms/step - loss: 0.3024 - accuracy: 0.9158 - val_loss: 0.2931 - val_accuracy: 0.9186\n",
      "Epoch 42/70\n",
      "750/750 [==============================] - 2s 3ms/step - loss: 0.3015 - accuracy: 0.9160 - val_loss: 0.2922 - val_accuracy: 0.9193\n",
      "Epoch 43/70\n",
      "750/750 [==============================] - 2s 3ms/step - loss: 0.3007 - accuracy: 0.9166 - val_loss: 0.2918 - val_accuracy: 0.9193\n",
      "Epoch 44/70\n",
      "750/750 [==============================] - 2s 3ms/step - loss: 0.3000 - accuracy: 0.9164 - val_loss: 0.2914 - val_accuracy: 0.9190\n",
      "Epoch 45/70\n",
      "750/750 [==============================] - 2s 2ms/step - loss: 0.2992 - accuracy: 0.9166 - val_loss: 0.2907 - val_accuracy: 0.9194\n",
      "Epoch 46/70\n",
      "750/750 [==============================] - 2s 3ms/step - loss: 0.2984 - accuracy: 0.9170 - val_loss: 0.2902 - val_accuracy: 0.9191\n",
      "Epoch 47/70\n",
      "750/750 [==============================] - 2s 3ms/step - loss: 0.2978 - accuracy: 0.9172 - val_loss: 0.2896 - val_accuracy: 0.9196\n",
      "Epoch 48/70\n",
      "750/750 [==============================] - 2s 2ms/step - loss: 0.2971 - accuracy: 0.9172 - val_loss: 0.2892 - val_accuracy: 0.9198\n",
      "Epoch 49/70\n",
      "750/750 [==============================] - 2s 2ms/step - loss: 0.2964 - accuracy: 0.9174 - val_loss: 0.2886 - val_accuracy: 0.9202\n",
      "Epoch 50/70\n",
      "750/750 [==============================] - 2s 2ms/step - loss: 0.2957 - accuracy: 0.9178 - val_loss: 0.2881 - val_accuracy: 0.9205\n",
      "Epoch 51/70\n",
      "750/750 [==============================] - 2s 2ms/step - loss: 0.2951 - accuracy: 0.9181 - val_loss: 0.2877 - val_accuracy: 0.9208\n",
      "Epoch 52/70\n",
      "750/750 [==============================] - 2s 3ms/step - loss: 0.2944 - accuracy: 0.9180 - val_loss: 0.2876 - val_accuracy: 0.9198\n",
      "Epoch 53/70\n",
      "750/750 [==============================] - 2s 2ms/step - loss: 0.2939 - accuracy: 0.9180 - val_loss: 0.2867 - val_accuracy: 0.9210\n",
      "Epoch 54/70\n",
      "750/750 [==============================] - 2s 2ms/step - loss: 0.2933 - accuracy: 0.9183 - val_loss: 0.2865 - val_accuracy: 0.9208\n",
      "Epoch 55/70\n",
      "750/750 [==============================] - 2s 2ms/step - loss: 0.2927 - accuracy: 0.9186 - val_loss: 0.2861 - val_accuracy: 0.9205\n",
      "Epoch 56/70\n",
      "750/750 [==============================] - 2s 2ms/step - loss: 0.2921 - accuracy: 0.9190 - val_loss: 0.2857 - val_accuracy: 0.9213\n",
      "Epoch 57/70\n",
      "750/750 [==============================] - 2s 2ms/step - loss: 0.2917 - accuracy: 0.9187 - val_loss: 0.2855 - val_accuracy: 0.9209\n",
      "Epoch 58/70\n",
      "750/750 [==============================] - 2s 2ms/step - loss: 0.2911 - accuracy: 0.9189 - val_loss: 0.2850 - val_accuracy: 0.9213\n",
      "Epoch 59/70\n",
      "750/750 [==============================] - 2s 2ms/step - loss: 0.2906 - accuracy: 0.9188 - val_loss: 0.2846 - val_accuracy: 0.9211\n",
      "Epoch 60/70\n",
      "750/750 [==============================] - 2s 2ms/step - loss: 0.2901 - accuracy: 0.9190 - val_loss: 0.2843 - val_accuracy: 0.9212\n",
      "Epoch 61/70\n",
      "750/750 [==============================] - 2s 2ms/step - loss: 0.2896 - accuracy: 0.9193 - val_loss: 0.2841 - val_accuracy: 0.9210\n",
      "Epoch 62/70\n",
      "750/750 [==============================] - 2s 2ms/step - loss: 0.2891 - accuracy: 0.9192 - val_loss: 0.2836 - val_accuracy: 0.9218\n",
      "Epoch 63/70\n",
      "750/750 [==============================] - 2s 2ms/step - loss: 0.2886 - accuracy: 0.9195 - val_loss: 0.2833 - val_accuracy: 0.9213\n",
      "Epoch 64/70\n",
      "750/750 [==============================] - 2s 2ms/step - loss: 0.2882 - accuracy: 0.9200 - val_loss: 0.2829 - val_accuracy: 0.9212\n",
      "Epoch 65/70\n",
      "750/750 [==============================] - 2s 2ms/step - loss: 0.2878 - accuracy: 0.9198 - val_loss: 0.2828 - val_accuracy: 0.9211\n",
      "Epoch 66/70\n",
      "750/750 [==============================] - 2s 2ms/step - loss: 0.2873 - accuracy: 0.9197 - val_loss: 0.2825 - val_accuracy: 0.9216\n",
      "Epoch 67/70\n",
      "750/750 [==============================] - 2s 2ms/step - loss: 0.2869 - accuracy: 0.9200 - val_loss: 0.2822 - val_accuracy: 0.9222\n",
      "Epoch 68/70\n",
      "750/750 [==============================] - 2s 2ms/step - loss: 0.2864 - accuracy: 0.9201 - val_loss: 0.2819 - val_accuracy: 0.9219\n",
      "Epoch 69/70\n",
      "750/750 [==============================] - 2s 3ms/step - loss: 0.2860 - accuracy: 0.9202 - val_loss: 0.2817 - val_accuracy: 0.9214\n",
      "Epoch 70/70\n",
      "750/750 [==============================] - 2s 2ms/step - loss: 0.2857 - accuracy: 0.9203 - val_loss: 0.2813 - val_accuracy: 0.9220\n"
     ]
    }
   ],
   "source": [
    "# Training the model. \n",
    "training = model_1.fit(X_train, Y_train, batch_size=64, epochs=70, validation_split=0.2) "
   ]
  },
  {
   "cell_type": "markdown",
   "id": "5351f418",
   "metadata": {},
   "source": [
    "### Plot the change in accuracy and loss per epochs\n",
    "\n",
    "You can plot a curve to check the variation of accuracy and loss as the number of epochs increases. For this you can use, matplotlib to plot the curve."
   ]
  },
  {
   "cell_type": "code",
   "execution_count": 9,
   "id": "1736c565",
   "metadata": {},
   "outputs": [
    {
     "name": "stdout",
     "output_type": "stream",
     "text": [
      "dict_keys(['loss', 'accuracy', 'val_loss', 'val_accuracy'])\n"
     ]
    },
    {
     "data": {
      "image/png": "[encoded data removed]",
      "text/plain": [
       "<Figure size 432x288 with 1 Axes>"
      ]
     },
     "metadata": {
      "needs_background": "light"
     },
     "output_type": "display_data"
    },
    {
     "data": {
      "image/png": "[encoded data removed]",
      "text/plain": [
       "<Figure size 432x288 with 1 Axes>"
      ]
     },
     "metadata": {
      "needs_background": "light"
     },
     "output_type": "display_data"
    }
   ],
   "source": [
    "import matplotlib.pyplot as plt\n",
    "%matplotlib inline\n",
    "\n",
    "# list all data in training\n",
    "print(training.history.keys())\n",
    "\n",
    "# summarize training for accuracy\n",
    "plt.plot(training.history['accuracy'])\n",
    "plt.plot(training.history['val_accuracy'])\n",
    "plt.title('model accuracy')\n",
    "plt.ylabel('accuracy')\n",
    "plt.xlabel('epoch')\n",
    "plt.legend(['train', 'test'], loc='upper left')\n",
    "plt.show()\n",
    "\n",
    "# summarize traning for loss\n",
    "plt.plot(training.history['loss'])\n",
    "plt.plot(training.history['val_loss'])\n",
    "plt.title('model loss')\n",
    "plt.ylabel('loss')\n",
    "plt.xlabel('epoch')\n",
    "plt.legend(['train', 'test'], loc='upper left')\n",
    "plt.show()"
   ]
  },
  {
   "cell_type": "markdown",
   "id": "811fcca1",
   "metadata": {},
   "source": [
    "### Evaluating the Handwritten Digit Recognition Model on Test Data\n",
    "\n",
    "We will now test the accuracy of the model on the testing dataset."
   ]
  },
  {
   "cell_type": "code",
   "execution_count": 17,
   "id": "1f5032d1",
   "metadata": {},
   "outputs": [
    {
     "name": "stdout",
     "output_type": "stream",
     "text": [
      "313/313 [==============================] - 1s 3ms/step - loss: 0.2827 - accuracy: 0.9213\n",
      "Test accuracy: 0.9212999939918518\n"
     ]
    }
   ],
   "source": [
    "#evaluate the model\n",
    "test_loss, test_acc = model_1.evaluate(X_test, Y_test)\n",
    "print('Test accuracy:', test_acc)"
   ]
  },
  {
   "cell_type": "markdown",
   "id": "f48c0db4",
   "metadata": {},
   "source": [
    "Finally you can check the configuration of the model using get_config()"
   ]
  },
  {
   "cell_type": "code",
   "execution_count": 18,
   "id": "7def4e7e",
   "metadata": {},
   "outputs": [
    {
     "data": {
      "text/plain": [
       "{'name': 'sequential',\n",
       " 'layers': [{'class_name': 'InputLayer',\n",
       "   'config': {'batch_input_shape': (None, 784),\n",
       "    'dtype': 'float32',\n",
       "    'sparse': False,\n",
       "    'ragged': False,\n",
       "    'name': 'dense_layer_input'}},\n",
       "  {'class_name': 'Dense',\n",
       "   'config': {'name': 'dense_layer',\n",
       "    'trainable': True,\n",
       "    'dtype': 'float32',\n",
       "    'batch_input_shape': (None, 784),\n",
       "    'units': 10,\n",
       "    'activation': 'softmax',\n",
       "    'use_bias': True,\n",
       "    'kernel_initializer': {'class_name': 'GlorotUniform',\n",
       "     'config': {'seed': None}},\n",
       "    'bias_initializer': {'class_name': 'Zeros', 'config': {}},\n",
       "    'kernel_regularizer': None,\n",
       "    'bias_regularizer': None,\n",
       "    'activity_regularizer': None,\n",
       "    'kernel_constraint': None,\n",
       "    'bias_constraint': None}}]}"
      ]
     },
     "execution_count": 18,
     "metadata": {},
     "output_type": "execute_result"
    }
   ],
   "source": [
    "model_1.get_config()"
   ]
  },
  {
   "cell_type": "markdown",
   "id": "b0cca499",
   "metadata": {},
   "source": [
    "Final accuracy of our trained model comes to be 92.13%"
   ]
  },
  {
   "cell_type": "code",
   "execution_count": null,
   "id": "c64d71c8",
   "metadata": {},
   "outputs": [],
   "source": []
  }
 ],
 "metadata": {
  "kernelspec": {
   "display_name": "Python 3 (ipykernel)",
   "language": "python",
   "name": "python3"
  },
  "language_info": {
   "codemirror_mode": {
    "name": "ipython",
    "version": 3
   },
   "file_extension": ".py",
   "mimetype": "text/x-python",
   "name": "python",
   "nbconvert_exporter": "python",
   "pygments_lexer": "ipython3",
   "version": "3.9.12"
  }
 },
 "nbformat": 4,
 "nbformat_minor": 5
}
